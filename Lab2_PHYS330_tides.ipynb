{
 "cells": [
  {
   "cell_type": "code",
   "execution_count": null,
   "id": "3ea303c3-f828-48a1-a7bf-3891a169d988",
   "metadata": {},
   "outputs": [],
   "source": [
    "# https://github.com/moflaher/ttide_py"
   ]
  }
 ],
 "metadata": {
  "kernelspec": {
   "display_name": "Python (baseline)",
   "language": "python",
   "name": "baseline"
  },
  "language_info": {
   "codemirror_mode": {
    "name": "ipython",
    "version": 3
   },
   "file_extension": ".py",
   "mimetype": "text/x-python",
   "name": "python",
   "nbconvert_exporter": "python",
   "pygments_lexer": "ipython3",
   "version": "3.9.15"
  }
 },
 "nbformat": 4,
 "nbformat_minor": 5
}
