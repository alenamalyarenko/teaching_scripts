{
 "cells": [
  {
   "cell_type": "markdown",
   "id": "21303f3f-4dbd-4be6-a60e-12ed244f5da3",
   "metadata": {},
   "source": [
    "# GEOG310, Lab 8, Working with large datasets - calculationg ENSO "
   ]
  },
  {
   "cell_type": "markdown",
   "id": "ce020384-b838-4fe5-b8de-ba95b0e554f3",
   "metadata": {},
   "source": [
    "This notebook introduces working with large climate datasets. \n",
    "\n",
    "Logging into see-trx4001\n",
    "Step 1: open a user account using powershell on windows or linux/mac terminal\n",
    "Step 2: secure shell into see-trx4001 linux computer ssh usr123@see-trx4001.canterbury.ac.nz then hit enter\n",
    "Step 3: use your internet browser to log into the JupyterLab server https://see-trx4001.canterbury.ac.nz:9552/\n",
    "\n",
    "\n",
    "ENSO can be defined using several parameters:\n",
    "\n",
    "* Sea Lelvel Pressure diffrerence (SOI) The negative phase of the SOI represents below-normal air pressure at Tahiti and above-normal air pressure at Darwin. \n",
    "https://www.ncei.noaa.gov/access/monitoring/enso/soi\n",
    "\n",
    "* See Surface temperature anomaly\n",
    "El Niño (La Niña) is a phenomenon in the equatorial Pacific Ocean characterized by a five consecutive 3-month running mean of sea surface temperature (SST) anomalies in the Niño 3.4 region that is above (below) the threshold of +0.5°C (-0.5°C). This standard of measure is known as the Oceanic Niño Index (ONI).\n",
    "\n",
    "* SST Principal Component Analysis \n",
    "    https://kls2177.github.io/Climate-and-Geophysical-Data-Analysis/chapters/Week7/Intro_to_PCA.html\n",
    "    \n",
    "\n",
    "<b> There are 11 Tasks in this notebook.</b>\n",
    "\n",
    "<b> Section 1 - Calculate ONI index -tasks 1-3</b>\n",
    "\n",
    "<b> Section 2 - CLimate in NZ - tasks 4 - 5  </b>\n",
    "\n",
    "<b> Section 3 - NZ and ENSO -  tasks 6 - 11 </b>\n",
    "    \n"
   ]
  },
  {
   "cell_type": "markdown",
   "id": "dcf3fd44-af73-499e-84c3-0d14a70deda1",
   "metadata": {},
   "source": [
    "\n"
   ]
  },
  {
   "cell_type": "markdown",
   "id": "fabe3cce-1936-4627-bd7d-c8b10a0c6882",
   "metadata": {},
   "source": [
    "### Section 1.  Calculate ONI index"
   ]
  },
  {
   "cell_type": "markdown",
   "id": "f172a426-418c-4b05-884c-fd1de4d75660",
   "metadata": {},
   "source": [
    "SST dataset: ERSST version 5\n",
    "https://psl.noaa.gov/data/gridded/data.noaa.ersst.v5.html\n",
    "\n",
    "Monthly values, 1854 - present\n",
    "\n",
    "\n",
    "How the dataset has been dowloaded:\n",
    "\n",
    "`mkdir ERSST`\n",
    "\n",
    "`cd ERSST`\n",
    "\n",
    "`wget -r -nd -R \"index.html*\" https://www.ncei.noaa.gov/pub/data/cmb/ersst/v5/netcdf/ .`\n",
    "\n",
    " The dataset comes in yearly files, but has been merged into one file for your convinience\n",
    "\n",
    "`cdo mergetime ersst.*.nc ersst_all.nc`\n",
    "\n",
    "\n",
    "#### Section 1.1 - plot the values from the file, define the ONI region"
   ]
  },
  {
   "cell_type": "code",
   "execution_count": null,
   "id": "ca435e85-47d1-4346-a201-9f66212fa587",
   "metadata": {},
   "outputs": [],
   "source": [
    "import matplotlib.pyplot as plt\n",
    "import matplotlib.dates as mdates\n",
    "import matplotlib.ticker as ticker\n",
    "import xarray as xr\n",
    "import numpy as np\n",
    "import cartopy.crs as ccrs\n",
    "from scipy.signal import detrend\n",
    "import pandas as pd\n",
    "import warnings\n",
    "\n",
    "#library to handle time variable in the SST file\n",
    "import cftime as cftime\n",
    "warnings.filterwarnings('ignore')"
   ]
  },
  {
   "cell_type": "code",
   "execution_count": null,
   "id": "42fb5f9e-32cb-4aea-8e67-d237ba0055f5",
   "metadata": {},
   "outputs": [],
   "source": [
    "#Load the dataset\n",
    "sst = xr.open_dataset(\"ERSST_full_record.nc\")\n",
    "\n",
    "#as this is a single level dataset, we can remove that dimention\n",
    "sst = xr.open_dataset(\"ERSST_full_record.nc\").squeeze(\"lev\").drop(\"lev\")"
   ]
  },
  {
   "cell_type": "markdown",
   "id": "f46a0b17-1d20-43a0-a37f-9f0fe50a25ac",
   "metadata": {},
   "source": [
    "<b>Task 1: Inverstigate 2 variables in the dataset</b>\n",
    "\n",
    "<b>What are their names:</b>\n",
    "\n",
    "<b>Time period:</b>\n",
    "\n",
    "<b>Horizontal resolution:</b>"
   ]
  },
  {
   "cell_type": "code",
   "execution_count": null,
   "id": "23877111-b43c-4b04-a1a1-0a19cbe42ac8",
   "metadata": {},
   "outputs": [],
   "source": []
  },
  {
   "cell_type": "code",
   "execution_count": null,
   "id": "fe05a0aa-cb94-400b-a549-2767fd2c4cb5",
   "metadata": {},
   "outputs": [],
   "source": [
    "# define Nino3.4 region boundaries\n",
    "lon1 = 360-170; lon2 = 360-120\n",
    "lat1 = -5; lat2 = 5\n",
    "# also the other NINO regions\n",
    "# Nino1.2\n",
    "lon1_12 = 360-90; lon2_12 = 360-80\n",
    "lat1_12 = -10; lat2_12 = 0\n",
    "# Nino3\n",
    "lon1_3 = 360-150; lon2_3 = 360-90\n",
    "lat1_3 = -5; lat2_3 = 5\n",
    "# Nino4\n",
    "lon1_4 = 160; lon2_4 = 360-150\n",
    "lat1_4 = -5; lat2_4 = 5"
   ]
  },
  {
   "cell_type": "code",
   "execution_count": null,
   "id": "d70b615b-c8ee-420c-a256-30c35d92cb15",
   "metadata": {},
   "outputs": [],
   "source": [
    "# define projection of SST data: lonlat grid -> \"PlateCarree()\"\n",
    "data_proj = ccrs.PlateCarree()\n",
    "# define projection for maps\n",
    "proj = ccrs.PlateCarree(central_longitude=180)\n",
    "\n",
    "# create figure and axis with map projection\n",
    "fig, ax = plt.subplots(1,1,subplot_kw={'projection':proj})\n",
    "# draw some coastlines\n",
    "ax.coastlines();"
   ]
  },
  {
   "cell_type": "code",
   "execution_count": null,
   "id": "483f366a-21e4-4752-8bba-924341a2980b",
   "metadata": {},
   "outputs": [],
   "source": [
    "# create figure and axis with map projection\n",
    "fig, ax = plt.subplots(1,1,subplot_kw={'projection':proj})\n",
    "# draw some coastlines\n",
    "ax.coastlines();\n",
    "\n",
    "\n",
    "# plot SST for last month,\n",
    "# i.e, the last time index, -1\n",
    "sst[\"sst\"][-1].plot(ax=ax,transform=data_proj,cbar_kwargs={\"shrink\": 0.7})\n",
    "# plot extend of Nino3.4\n",
    "nino34 = [lon1,lon2,lon2,lon1,lon1],[lat1,lat1,lat2,lat2,lat1]\n",
    "ax.plot(*nino34,'k-',transform=data_proj)"
   ]
  },
  {
   "cell_type": "code",
   "execution_count": null,
   "id": "8713a894-8b37-4b16-bd5e-10e1d1ee838e",
   "metadata": {},
   "outputs": [],
   "source": [
    "# create figure and axis with map projection\n",
    "fig, ax = plt.subplots(1,1,subplot_kw={'projection':proj})\n",
    "# draw some coastlines\n",
    "ax.coastlines();\n",
    "\n",
    "\n",
    "# plot SST anomalies for last month,\n",
    "# i.e, the last time index, -1\n",
    "sst[\"ssta\"][-1].plot(ax=ax,transform=data_proj,cbar_kwargs={\"shrink\": 0.7})\n",
    "# plot extend of Nino3.4\n",
    "nino34 = [lon1,lon2,lon2,lon1,lon1],[lat1,lat1,lat2,lat2,lat1]\n",
    "ax.plot(*nino34,'k-',transform=data_proj)"
   ]
  },
  {
   "cell_type": "markdown",
   "id": "4a12aa82-0e96-44a5-bc23-595b1781e847",
   "metadata": {},
   "source": [
    "<b>Task 2: Add three other Nino regions to the map</b>\n",
    "\n",
    "Hint:\n",
    "\n",
    "nino12 =\n",
    "\n",
    "ax.plot(*nino12,'k--',lw=1,transform=data_proj)\n",
    "\n"
   ]
  },
  {
   "cell_type": "code",
   "execution_count": null,
   "id": "1fa72ab2-de22-4221-9337-c071cbb0b14c",
   "metadata": {},
   "outputs": [],
   "source": []
  },
  {
   "cell_type": "markdown",
   "id": "51405b54-7974-4002-8573-06663af8fcbc",
   "metadata": {
    "tags": []
   },
   "source": [
    "#### Section 1.2 - Calculate ONI in Nino3.4"
   ]
  },
  {
   "cell_type": "code",
   "execution_count": null,
   "id": "25dbb390-c2a5-47fb-bca7-e1f5cfc9a677",
   "metadata": {},
   "outputs": [],
   "source": [
    "# slice dataset along Nino3.4 boundaries\n",
    "# i.e., between \"lon1\" and \"lon2\",\n",
    "# and between \"lat1\" and \"lat2\"\n",
    "\n",
    "sst_a = sst[\"ssta\"].loc[{\n",
    "    'lat': slice(lat1,lat2),\n",
    "    'lon': slice(lon1,lon2)\n",
    "}]\n",
    "\n",
    "# Mean over area, running mean over 3 months\n",
    "sst_a_mean=sst_a.mean(dim=[\"lat\",\"lon\"])\n",
    "sst_a_running=sst_a_mean.rolling(time=3, center=True).mean()"
   ]
  },
  {
   "cell_type": "code",
   "execution_count": null,
   "id": "07174000-e499-4925-a0f2-0ae914325a2d",
   "metadata": {},
   "outputs": [],
   "source": [
    "fig, ax = plt.subplots(figsize=(15,5))\n",
    "\n",
    "timeticks=np.array([cftime.Datetime360Day(1900, 1, 1, 0, 0, 0, 0, has_year_zero=True),\n",
    "                    cftime.Datetime360Day(1950, 1, 1, 0, 0, 0, 0, has_year_zero=True),\n",
    "                    cftime.Datetime360Day(1958, 1, 1, 0, 0, 0, 0, has_year_zero=True),\n",
    "                    cftime.Datetime360Day(2000, 1, 1, 0, 0, 0, 0, has_year_zero=True),],\n",
    "                    dtype=object)\n",
    "\n",
    "sst_a_running.plot.line(ax=ax, color='black',xticks=timeticks)\n",
    "\n",
    "ax.set_xlim(cftime.Datetime360Day(1940, 1, 1, 0, 0, 0, 0, has_year_zero=True),cftime.Datetime360Day(2024, 1, 1, 0, 0, 0, 0, has_year_zero=True))\n",
    "\n",
    "# Add lines to define ONI limits\n",
    "ax.axhline(y=0.5, color='r', linestyle='--', label='Threshold')\n",
    "ax.axhline(y=-0.5, color='b', linestyle='--', label='Threshold')"
   ]
  },
  {
   "cell_type": "markdown",
   "id": "246426f4-8960-4a28-baab-ba5a194123a6",
   "metadata": {},
   "source": [
    "<b>Task 3: Which years are La Nina? El Nino ? Give 5 exmaples of each. </b>\n",
    "    \n",
    "Hint: Play with xlim and/or timeticks to find out dates\n",
    "    \n"
   ]
  },
  {
   "cell_type": "markdown",
   "id": "81cb13d8-6424-4416-915a-f344edd5006d",
   "metadata": {},
   "source": [
    "## Section 2: Climate in New Zealand\n",
    "\n",
    "\n",
    "Next we look at ERA5 files for NZ and choose 2 locations: Auckland and Christchurch "
   ]
  },
  {
   "cell_type": "code",
   "execution_count": null,
   "id": "c603cda6-941b-4331-b3f8-d061b3f7037a",
   "metadata": {},
   "outputs": [],
   "source": [
    "# define a function that subtracts the mean along the \"time\" dimension\n",
    "def subtract(x):\n",
    "    return x - x.mean(dim=\"time\")\n",
    "\n",
    "# define our custom detrend function that also fills NaNs with 0s\n",
    "def detrend_(x):\n",
    "    return detrend(x.fillna(0),axis=0)"
   ]
  },
  {
   "cell_type": "code",
   "execution_count": null,
   "id": "6383986b-5275-4928-bcfd-dfa257caaf11",
   "metadata": {},
   "outputs": [],
   "source": [
    "lon_a=174.76\n",
    "lat_a=-36.85\n",
    "\n",
    "lon_c=172.64\n",
    "lat_c=-43.53\n",
    "\n",
    "era5=xr.open_dataset('era5_nz_1941_2023.nc')\n",
    "era5\n",
    "\n",
    "#rename valid_time into time\n",
    "new_dims = {'valid_time': 'time'}\n",
    "era5 = era5.rename(new_dims).set_coords([ 'time'])"
   ]
  },
  {
   "cell_type": "code",
   "execution_count": null,
   "id": "e5085928-a2b9-4e84-a6eb-589ad9360e0d",
   "metadata": {},
   "outputs": [],
   "source": [
    "temp_a=era5.t2m.sel(longitude=lon_a,latitude=lat_a,method=\"nearest\")"
   ]
  },
  {
   "cell_type": "code",
   "execution_count": null,
   "id": "4ed4aa30-7941-4b57-acea-aa90fc6907eb",
   "metadata": {},
   "outputs": [],
   "source": [
    "fig, ax = plt.subplots(figsize=(20,5))\n",
    "temp_a.plot.line(ax=ax, color='black')\n",
    "ax.set_xlim(pd.to_datetime(['1940-01-01', '2024-01-01']))"
   ]
  },
  {
   "cell_type": "code",
   "execution_count": null,
   "id": "35603142-22d8-4297-9177-24f8731e7e1c",
   "metadata": {},
   "outputs": [],
   "source": [
    "#Calculate temperature Anomaly (detrend+ remove mean value, remove seasonal signal)\n",
    "# Save original variable:\n",
    "temp0=era5\n",
    "\n",
    "# apply the detrending, save variable after\n",
    "era5 = era5.map(detrend_)\n",
    "temp1=era5\n",
    "\n",
    "# apply the subtraction of the monthly means, using \"groupby\", save the final variable\n",
    "era5 = era5.groupby(\"time.month\").map(subtract)\n",
    "temp2=era5\n",
    "\n",
    "\n"
   ]
  },
  {
   "cell_type": "code",
   "execution_count": null,
   "id": "2e6622c7-650a-43ec-a5d7-a74553b9fcaa",
   "metadata": {},
   "outputs": [],
   "source": [
    "#Plot all three records to undertand what happened:\n",
    "fig, axes = plt.subplots(3, 1, figsize=(8, 12))\n",
    "\n",
    "\n",
    "temp0[\"t2m\"].sel(longitude=lon_a,latitude=lat_a,method='nearest').plot(label=\"Original\",lw=2,ax=axes[0])\n",
    "axes[0].legend()\n",
    "axes[0].set_xlim(pd.to_datetime(['1940-01-01', '1950-01-01']))\n",
    "\n",
    "\n",
    "temp1[\"t2m\"].sel(longitude=lon_a,latitude=lat_a,method='nearest').plot(label=\"detrended\",lw=2,ax=axes[1])\n",
    "axes[1].legend()\n",
    "axes[1].set_xlim(pd.to_datetime(['1940-01-01', '1950-01-01']))\n",
    "\n",
    "\n",
    "temp2[\"t2m\"].sel(longitude=lon_a,latitude=lat_a,method='nearest').plot(label=\"anomaly\",lw=2,ax=axes[2])\n",
    "axes[2].legend()\n",
    "axes[2].set_xlim(pd.to_datetime(['1940-01-01', '1950-01-01']))\n"
   ]
  },
  {
   "cell_type": "markdown",
   "id": "bdfb00fb-3e86-4ce7-be29-9014e7b38294",
   "metadata": {},
   "source": [
    "<b> Task 4. plot the monthly means of temperature anomalies as time series for a location, for 1940-1950 </b>\n",
    "\n",
    "Hint: add \"resample(time=\"1MS\").mean()\" to convert the timeseries to the monthly mean"
   ]
  },
  {
   "cell_type": "code",
   "execution_count": null,
   "id": "58cb7895-09c0-4946-b348-a02c488779b0",
   "metadata": {},
   "outputs": [],
   "source": []
  },
  {
   "cell_type": "markdown",
   "id": "54f22163-3446-4940-9b6d-97f83cac36e1",
   "metadata": {},
   "source": [
    "<b> Task 5: Repeat the plot with precipitaion records </b>"
   ]
  },
  {
   "cell_type": "code",
   "execution_count": null,
   "id": "5d4fa363-3eb1-451d-852d-55b470ae13c1",
   "metadata": {},
   "outputs": [],
   "source": [
    "\n"
   ]
  },
  {
   "cell_type": "markdown",
   "id": "efb05c14-2267-4fea-a1b9-1af276c1152c",
   "metadata": {},
   "source": [
    "### Section 3. NZ and ENSO\n",
    "\n",
    "\n",
    "https://niwa.co.nz/el-nino-and-la-nina\n",
    "\n",
    "<b> Task 6: Read the page and aswer the questions: </b> \n",
    "\n",
    "1) Is there a uniform effect for the whole country?  \n",
    "\n",
    "2) Is there a uniform effect for the whole year?\n",
    "\n"
   ]
  },
  {
   "cell_type": "markdown",
   "id": "495b273c-303c-4b6b-92a1-7b1a0c018bcf",
   "metadata": {},
   "source": [
    "<b> Task 7: Plot ONI for the same time period as temperature and precipitation anomalies. </b>\n",
    "\n",
    "#hint on time limit with ERSST time varibale format:\n",
    "\n",
    "ax.set_xlim(cftime.Datetime360Day(1940, 1, 1, 0, 0, 0, 0, has_year_zero=True),cftime.Datetime360Day(1950, 1, 1, 0, 0, 0, 0, has_year_zero=True))\n"
   ]
  },
  {
   "cell_type": "code",
   "execution_count": null,
   "id": "753073a4-73db-4280-84c5-53ce663d6993",
   "metadata": {},
   "outputs": [],
   "source": []
  },
  {
   "cell_type": "markdown",
   "id": "8faa4ee3-f1da-436c-9a90-19841554f5f2",
   "metadata": {},
   "source": [
    "<b> Task 8: Describe the relationship between ONI, temperature and precipitaion records. Hint: focus on the two years with the strongest ONI signal.\n",
    "    Use NIWA's page for guidance if needed. </b>\n"
   ]
  },
  {
   "cell_type": "markdown",
   "id": "c2534409-e2c2-4bb9-bb2b-47f15968041c",
   "metadata": {},
   "source": [
    "<b> Task 9: Plot a scatter plot of temperature and ONI relationship. To do so, convert era5 to monthly means again! </b>\n",
    "\n",
    "Make a figure with 4 subplots. Each subplot must have a title and axes labels."
   ]
  },
  {
   "cell_type": "code",
   "execution_count": null,
   "id": "1829329d-5fc5-4031-b726-30b36e91ccaf",
   "metadata": {},
   "outputs": [],
   "source": [
    "#Define variables\n",
    "a_tp=era5[\"tp\"].resample(time=\"1MS\").mean().sel(longitude=lon_a,latitude=lat_a,method='nearest').sel(time=slice(\"1941-01-01\",\"1950-01-01\"))\n",
    "c_tp=era5[\"tp\"].resample(time=\"1MS\").mean().sel(longitude=lon_c,latitude=lat_c,method='nearest').sel(time=slice(\"1941-01-01\",\"1950-01-01\"))\n",
    "\n",
    "a_temp=era5[\"t2m\"].resample(time=\"1MS\").mean().sel(longitude=lon_a,latitude=lat_a,method='nearest').sel(time=slice(\"1941-01-01\",\"1950-01-01\"))\n",
    "c_temp=era5[\"t2m\"].resample(time=\"1MS\").mean().sel(longitude=lon_c,latitude=lat_c,method='nearest').sel(time=slice(\"1941-01-01\",\"1950-01-01\"))\n",
    "\n",
    "oni=sst_a_running.sel(time=slice(\"1941-01-01\",\"1950-01-01\"))\n",
    "np.shape(a), np.shape(b), np.shape(c)\n",
    "\n"
   ]
  },
  {
   "cell_type": "code",
   "execution_count": null,
   "id": "d4488038-dd11-4f13-8207-5e8acb80a343",
   "metadata": {},
   "outputs": [],
   "source": [
    "# Create a figure with 4 subplots\n",
    "fig, axes = plt.subplots(2, 2, figsize=(12, 12))\n",
    "\n",
    "\n",
    "axes[0,0].scatter(a_tp, oni, .....\n",
    "\n",
    "axes[0,1].\n",
    "\n",
    "axes[1,0].\n",
    "\n",
    "axes[1,1].\n",
    "\n",
    "\n",
    "# Adjust the layout to avoid overlap\n",
    "plt.tight_layout()\n"
   ]
  },
  {
   "cell_type": "markdown",
   "id": "7de1853b-b8b6-4f8d-bcd6-b338fba65aba",
   "metadata": {},
   "source": [
    "<b> Task 11: Repeat task 10 for 1940-2023  and discuss the change in results</b>\n",
    "\n",
    "Add axis limits to make the plots easier to unsertand. \n",
    "\n"
   ]
  },
  {
   "cell_type": "code",
   "execution_count": null,
   "id": "398c9957-ea82-45ee-a020-d54f9ee82c2d",
   "metadata": {},
   "outputs": [],
   "source": [
    "# Define variables\n"
   ]
  },
  {
   "cell_type": "code",
   "execution_count": null,
   "id": "23347e06-5070-4f66-a545-34a222c40a8d",
   "metadata": {},
   "outputs": [],
   "source": [
    "# Create a figure with 2 subplots (1 row, 2 columns)\n"
   ]
  },
  {
   "cell_type": "markdown",
   "id": "e3594c0a-6e7b-4738-a1e0-62254acac210",
   "metadata": {},
   "source": [
    "Bonus plot:  Will plotting the timeseries together help us explain what is happening?\n"
   ]
  },
  {
   "cell_type": "code",
   "execution_count": null,
   "id": "bbb5e936-cd12-4019-8f23-94f6502b07f4",
   "metadata": {},
   "outputs": [],
   "source": [
    "# plot the monthly means of anomalies as time series for a location \n",
    "\n",
    "timeticks2=np.array([cftime.Datetime360Day(1940, 1, 1, 0, 0, 0, 0, has_year_zero=True),\n",
    "                     cftime.Datetime360Day(1950, 1, 1, 0, 0, 0, 0, has_year_zero=True),\n",
    "                     cftime.Datetime360Day(1960, 1, 1, 0, 0, 0, 0, has_year_zero=True),\n",
    "                     cftime.Datetime360Day(1970, 1, 1, 0, 0, 0, 0, has_year_zero=True), \n",
    "                     cftime.Datetime360Day(1980, 1, 1, 0, 0, 0, 0, has_year_zero=True),\n",
    "                     cftime.Datetime360Day(1990, 1, 1, 0, 0, 0, 0, has_year_zero=True),\n",
    "                     cftime.Datetime360Day(2000, 1, 1, 0, 0, 0, 0, has_year_zero=True),],\n",
    "                     dtype=object)\n",
    "\n",
    "\n",
    "#Plot all three records to undertand what happened:\n",
    "fig, axes = plt.subplots(3, 1, figsize=(15, 15))\n",
    "\n",
    "\n",
    "era5[\"t2m\"].resample(time=\"1MS\").mean() \\\n",
    "            .sel(longitude=lon_a,latitude=lat_a,method='nearest').plot(label=\"Auckland\",lw=0.5,ax=axes[0],color='blue')\n",
    "era5[\"t2m\"].resample(time=\"1MS\").mean() \\\n",
    "            .sel(longitude=lon_c,latitude=lat_c,method='nearest').plot(label=\"Christchurch\",lw=0.5,ax=axes[0],color='red')\n",
    "plt.legend();\n",
    "axes[0].axhline(y=0, color='k', linestyle='--', label='Threshold')\n",
    "\n",
    "\n",
    "\n",
    "era5[\"tp\"].resample(time=\"1MS\").mean() \\\n",
    "            .sel(longitude=lon_a,latitude=lat_a,method='nearest').plot(label=\"Auckland\",lw=0.5,ax=axes[1],color='blue')\n",
    "era5[\"tp\"].resample(time=\"1MS\").mean() \\\n",
    "            .sel(longitude=lon_c,latitude=lat_c,method='nearest').plot(label=\"Christchurch\",lw=0.5,ax=axes[1],color='red')\n",
    "plt.legend();\n",
    "axes[1].axhline(y=0, color='k', linestyle='--', label='Threshold')\n",
    "\n",
    "\n",
    "\n",
    "\n",
    "sst_a_running.plot.line(ax=axes[2],color='black',xticks=timeticks2)\n",
    "\n",
    "axes[2].axhline(y=0.5, color='r', linestyle='--', label='Threshold')\n",
    "axes[2].axhline(y=-0.5, color='b', linestyle='--', label='Threshold')\n",
    "\n",
    "\n",
    "axes[0].set_xlim(pd.to_datetime(['1940-01-01', '2000-01-01']))\n",
    "axes[1].set_xlim(pd.to_datetime(['1940-01-01', '2000-01-01']))\n",
    "axes[2].set_xlim(cftime.Datetime360Day(1940, 1, 1, 0, 0, 0, 0, has_year_zero=True),cftime.Datetime360Day(2000, 1, 1, 0, 0, 0, 0, has_year_zero=True))"
   ]
  }
 ],
 "metadata": {
  "kernelspec": {
   "display_name": "Python (baseline)",
   "language": "python",
   "name": "baseline"
  },
  "language_info": {
   "codemirror_mode": {
    "name": "ipython",
    "version": 3
   },
   "file_extension": ".py",
   "mimetype": "text/x-python",
   "name": "python",
   "nbconvert_exporter": "python",
   "pygments_lexer": "ipython3",
   "version": "3.9.15"
  }
 },
 "nbformat": 4,
 "nbformat_minor": 5
}
