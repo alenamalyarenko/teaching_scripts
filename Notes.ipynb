{
 "cells": [
  {
   "cell_type": "code",
   "execution_count": null,
   "id": "b4c0015f-d685-43a1-a96d-5b627fb7fec2",
   "metadata": {},
   "outputs": [],
   "source": [
    "mkdir ERSST\n",
    "cd ERSST"
   ]
  },
  {
   "cell_type": "code",
   "execution_count": null,
   "id": "6ac9d8d3-377a-494e-bc09-8400b39323ef",
   "metadata": {},
   "outputs": [],
   "source": [
    "!wget -r -nd -R \"index.html*\" https://www.ncei.noaa.gov/pub/data/cmb/ersst/v5/netcdf/ ."
   ]
  },
  {
   "cell_type": "code",
   "execution_count": 5,
   "id": "ee34a7cf-996c-41ed-8242-1df25b6c8c9d",
   "metadata": {},
   "outputs": [
    {
     "name": "stdout",
     "output_type": "stream",
     "text": [
      "\u001b[31mcdo    mergetime: \u001b[0mOpen failed on >ersst.v5.1854*.nc<\n",
      "                  No such file or directory\n",
      "free(): invalid pointer\n"
     ]
    }
   ],
   "source": [
    "!cdo mergetime ersst.*.nc ersst_all.nc"
   ]
  },
  {
   "cell_type": "code",
   "execution_count": null,
   "id": "63560540-4ac8-4940-8cb0-75e493c8eba6",
   "metadata": {},
   "outputs": [],
   "source": [
    "https://foundations.projectpythia.org/core/xarray/enso-xarray.html\n",
    "\n",
    "\n",
    "https://gallery.pangeo.io/repos/pangeo-data/pangeo-tutorial-gallery/xarray.html"
   ]
  }
 ],
 "metadata": {
  "kernelspec": {
   "display_name": "Python (baseline)",
   "language": "python",
   "name": "baseline"
  },
  "language_info": {
   "codemirror_mode": {
    "name": "ipython",
    "version": 3
   },
   "file_extension": ".py",
   "mimetype": "text/x-python",
   "name": "python",
   "nbconvert_exporter": "python",
   "pygments_lexer": "ipython3",
   "version": "3.9.15"
  }
 },
 "nbformat": 4,
 "nbformat_minor": 5
}
